{
 "cells": [
  {
   "cell_type": "code",
   "execution_count": 1,
   "id": "8e799db6",
   "metadata": {},
   "outputs": [],
   "source": [
    "from keras.layers import Dense,Conv2D,MaxPooling2D,UpSampling2D\n",
    "from keras import Input, Model\n",
    "from keras.datasets import mnist\n",
    "import numpy as np\n",
    "import matplotlib.pyplot as plt"
   ]
  },
  {
   "cell_type": "code",
   "execution_count": 2,
   "id": "9173c882",
   "metadata": {},
   "outputs": [],
   "source": [
    "encoding_dim = 15 \n",
    "input_img = Input(shape=(784,))\n",
    "# encoded representation of input\n",
    "encoded = Dense(encoding_dim, activation='relu')(input_img)\n",
    "# decoded representation of code \n",
    "decoded = Dense(784, activation='sigmoid')(encoded)\n",
    "# Model which take input image and shows decoded images\n",
    "autoencoder = Model(input_img, decoded)"
   ]
  },
  {
   "cell_type": "code",
   "execution_count": 3,
   "id": "4d493dea",
   "metadata": {},
   "outputs": [],
   "source": [
    "# This model shows encoded images\n",
    "encoder = Model(input_img, encoded)\n",
    "# Creating a decoder model\n",
    "encoded_input = Input(shape=(encoding_dim,))\n",
    "# last layer of the autoencoder model\n",
    "decoder_layer = autoencoder.layers[-1]\n",
    "# decoder model\n",
    "decoder = Model(encoded_input, decoder_layer(encoded_input))"
   ]
  },
  {
   "cell_type": "code",
   "execution_count": 4,
   "id": "0553c07f",
   "metadata": {},
   "outputs": [],
   "source": [
    "autoencoder.compile(optimizer='adam', loss='binary_crossentropy')"
   ]
  },
  {
   "cell_type": "code",
   "execution_count": 5,
   "id": "bd9b78aa",
   "metadata": {},
   "outputs": [
    {
     "name": "stdout",
     "output_type": "stream",
     "text": [
      "(60000, 784)\n",
      "(10000, 784)\n"
     ]
    }
   ],
   "source": [
    "#load the data \n",
    "(x_train, y_train), (x_test, y_test) = mnist.load_data()\n",
    "x_train = x_train.astype('float32') / 255.\n",
    "x_test = x_test.astype('float32') / 255.\n",
    "x_train = x_train.reshape((len(x_train), np.prod(x_train.shape[1:])))\n",
    "x_test = x_test.reshape((len(x_test), np.prod(x_test.shape[1:])))\n",
    "print(x_train.shape)\n",
    "print(x_test.shape)"
   ]
  },
  {
   "cell_type": "code",
   "execution_count": 6,
   "id": "8d5a67d1",
   "metadata": {},
   "outputs": [
    {
     "data": {
      "text/plain": [
       "<matplotlib.image.AxesImage at 0x2d2e1947400>"
      ]
     },
     "execution_count": 6,
     "metadata": {},
     "output_type": "execute_result"
    },
    {
     "data": {
      "image/png": "[encoded data removed]",
      "text/plain": [
       "<Figure size 432x288 with 1 Axes>"
      ]
     },
     "metadata": {
      "needs_background": "light"
     },
     "output_type": "display_data"
    }
   ],
   "source": [
    "plt.imshow(x_train[0].reshape(28,28))"
   ]
  },
  {
   "cell_type": "code",
   "execution_count": 7,
   "id": "bc026014",
   "metadata": {},
   "outputs": [
    {
     "name": "stdout",
     "output_type": "stream",
     "text": [
      "Epoch 1/15\n",
      "235/235 [==============================] - 6s 18ms/step - loss: 0.3098 - val_loss: 0.2241\n",
      "Epoch 2/15\n",
      "235/235 [==============================] - 4s 16ms/step - loss: 0.2021 - val_loss: 0.1835\n",
      "Epoch 3/15\n",
      "235/235 [==============================] - 4s 15ms/step - loss: 0.1743 - val_loss: 0.1648\n",
      "Epoch 4/15\n",
      "235/235 [==============================] - 3s 15ms/step - loss: 0.1605 - val_loss: 0.1544\n",
      "Epoch 5/15\n",
      "235/235 [==============================] - 4s 15ms/step - loss: 0.1521 - val_loss: 0.1482\n",
      "Epoch 6/15\n",
      "235/235 [==============================] - 4s 16ms/step - loss: 0.1475 - val_loss: 0.1446\n",
      "Epoch 7/15\n",
      "235/235 [==============================] - 5s 22ms/step - loss: 0.1447 - val_loss: 0.1422\n",
      "Epoch 8/15\n",
      "235/235 [==============================] - 3s 15ms/step - loss: 0.1426 - val_loss: 0.1404\n",
      "Epoch 9/15\n",
      "235/235 [==============================] - 3s 15ms/step - loss: 0.1410 - val_loss: 0.1389\n",
      "Epoch 10/15\n",
      "235/235 [==============================] - 3s 12ms/step - loss: 0.1395 - val_loss: 0.1375\n",
      "Epoch 11/15\n",
      "235/235 [==============================] - 3s 12ms/step - loss: 0.1382 - val_loss: 0.1363\n",
      "Epoch 12/15\n",
      "235/235 [==============================] - 3s 12ms/step - loss: 0.1370 - val_loss: 0.1351\n",
      "Epoch 13/15\n",
      "235/235 [==============================] - 4s 16ms/step - loss: 0.1361 - val_loss: 0.1342\n",
      "Epoch 14/15\n",
      "235/235 [==============================] - 3s 13ms/step - loss: 0.1352 - val_loss: 0.1335\n",
      "Epoch 15/15\n",
      "235/235 [==============================] - 3s 13ms/step - loss: 0.1346 - val_loss: 0.1329\n"
     ]
    },
    {
     "data": {
      "text/plain": [
       "<keras.callbacks.History at 0x2d2e3a5e8b0>"
      ]
     },
     "execution_count": 7,
     "metadata": {},
     "output_type": "execute_result"
    }
   ],
   "source": [
    "autoencoder.fit(x_train, x_train,\n",
    "                epochs=15,\n",
    "                batch_size=256,\n",
    "                validation_data=(x_test, x_test))"
   ]
  },
  {
   "cell_type": "code",
   "execution_count": 8,
   "id": "bb44b4fb",
   "metadata": {},
   "outputs": [
    {
     "name": "stdout",
     "output_type": "stream",
     "text": [
      "313/313 [==============================] - 1s 3ms/step\n",
      "313/313 [==============================] - 1s 3ms/step\n"
     ]
    },
    {
     "data": {
      "image/png": "[encoded data removed]",
      "text/plain": [
       "<Figure size 1440x288 with 10 Axes>"
      ]
     },
     "metadata": {
      "needs_background": "light"
     },
     "output_type": "display_data"
    }
   ],
   "source": [
    "encoded_img = encoder.predict(x_test)\n",
    "decoded_img = decoder.predict(encoded_img)\n",
    "plt.figure(figsize=(20, 4))\n",
    "for i in range(5):\n",
    "    # Display original\n",
    "    ax = plt.subplot(2, 5, i + 1)\n",
    "    plt.imshow(x_test[i].reshape(28, 28))\n",
    "    plt.gray()\n",
    "    ax.get_xaxis().set_visible(False)\n",
    "    ax.get_yaxis().set_visible(False)\n",
    "    # Display reconstruction\n",
    "    ax = plt.subplot(2, 5, i + 1 + 5)\n",
    "    plt.imshow(decoded_img[i].reshape(28, 28))\n",
    "    plt.gray()\n",
    "    ax.get_xaxis().set_visible(False)\n",
    "    ax.get_yaxis().set_visible(False)\n",
    "plt.show()"
   ]
  },
  {
   "cell_type": "code",
   "execution_count": null,
   "id": "ba4eaedf",
   "metadata": {},
   "outputs": [],
   "source": []
  }
 ],
 "metadata": {
  "kernelspec": {
   "display_name": "Python 3 (ipykernel)",
   "language": "python",
   "name": "python3"
  },
  "language_info": {
   "codemirror_mode": {
    "name": "ipython",
    "version": 3
   },
   "file_extension": ".py",
   "mimetype": "text/x-python",
   "name": "python",
   "nbconvert_exporter": "python",
   "pygments_lexer": "ipython3",
   "version": "3.9.12"
  }
 },
 "nbformat": 4,
 "nbformat_minor": 5
}
